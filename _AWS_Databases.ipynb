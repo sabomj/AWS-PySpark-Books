{
 "cells": [
  {
   "cell_type": "markdown",
   "metadata": {},
   "source": [
    "# SI 330 - Homework 3: AWS, RDS, MySQL, and Visualization\n",
    "## Top-level goal:\n",
    "To explore the goodreads database that we created during the past few classes.\n",
    "\n",
    "**NOTE**: You will need to review your notebooks from the past few classes to complete this assignment."
   ]
  },
  {
   "cell_type": "markdown",
   "metadata": {},
   "source": [
    "Take a look at the first few entries in the ```books``` table.  Specifically, take a look at the ```authors``` field.  \n",
    "\n",
    "You'll notice that some entries contain multiple authors such as:\n",
    ">  'Anne Frank, Eleanor Roosevelt, B.M. Mooyaart-Doubleday'\n",
    "\n",
    "(that's from iloc[14])\n",
    "\n",
    "Note too that some non-ASCII characters in the author names are misformed.  That's my fault and can be ignored for the purposes of this assignment."
   ]
  },
  {
   "cell_type": "markdown",
   "metadata": {},
   "source": [
    "Your task is to \"break out\" those authors into a separate dataframe, then use either merge, join, or any other functionality from pandas to answer the following questions.  Please note that there are multiple ways to figure out the answers.  You can, of course, choose to do things in a \"pythonic\" way rather than a \"pandorable\" way, but it will be more difficult to get full points if you do so.\n",
    "\n",
    "You will also need to use some of the visualization techniques we learned when we covered matplotlib a few weeks ago."
   ]
  },
  {
   "cell_type": "code",
   "execution_count": 389,
   "metadata": {},
   "outputs": [],
   "source": [
    "import pymysql\n",
    "import pandas as pd"
   ]
  },
  {
   "cell_type": "code",
   "execution_count": 390,
   "metadata": {},
   "outputs": [],
   "source": [
    "connection = pymysql.connect(host='si330-sabomj-instance.cxsm6mrn5cd8.us-east-1.rds.amazonaws.com', # remove this before submitting\n",
    "                             user='sabomj', # remove this before submitting\n",
    "                             password='9fhut38K.', # remove this before submitting\n",
    "                             db='goodreads',\n",
    "                             charset='utf8mb4',\n",
    "                             cursorclass=pymysql.cursors.DictCursor)"
   ]
  },
  {
   "cell_type": "markdown",
   "metadata": {},
   "source": [
    "### Q1: How many unique authors are there?"
   ]
  },
  {
   "cell_type": "code",
   "execution_count": 391,
   "metadata": {},
   "outputs": [],
   "source": [
    "df = pd.read_sql('SELECT authors FROM books',con=connection)\n",
    "df_list = df['authors'].tolist()\n",
    "\n",
    "new_list = []\n",
    "for x in df_list:\n",
    "    new_list.extend(x.split(\", \"))\n",
    "#new_list"
   ]
  },
  {
   "cell_type": "code",
   "execution_count": 392,
   "metadata": {},
   "outputs": [
    {
     "data": {
      "text/plain": [
       "5707"
      ]
     },
     "execution_count": 392,
     "metadata": {},
     "output_type": "execute_result"
    }
   ],
   "source": [
    "unique = pd.DataFrame(new_list)\n",
    "unique.columns =['authors']\n",
    "#unique\n",
    "unique['authors'].nunique()"
   ]
  },
  {
   "cell_type": "markdown",
   "metadata": {},
   "source": [
    "There are 5,707 unique authors."
   ]
  },
  {
   "cell_type": "markdown",
   "metadata": {},
   "source": [
    "### Q2: Create a barchart that has the number of authors from 1 to n across the horizontal axis and the number of books having that number of authors as the vertical axis."
   ]
  },
  {
   "cell_type": "code",
   "execution_count": 393,
   "metadata": {},
   "outputs": [],
   "source": [
    "unique['#'] = (unique['authors'].str.count(',')) + 1"
   ]
  },
  {
   "cell_type": "code",
   "execution_count": 394,
   "metadata": {},
   "outputs": [
    {
     "data": {
      "text/html": [
       "<div>\n",
       "<style scoped>\n",
       "    .dataframe tbody tr th:only-of-type {\n",
       "        vertical-align: middle;\n",
       "    }\n",
       "\n",
       "    .dataframe tbody tr th {\n",
       "        vertical-align: top;\n",
       "    }\n",
       "\n",
       "    .dataframe thead th {\n",
       "        text-align: right;\n",
       "    }\n",
       "</style>\n",
       "<table border=\"1\" class=\"dataframe\">\n",
       "  <thead>\n",
       "    <tr style=\"text-align: right;\">\n",
       "      <th></th>\n",
       "      <th>#</th>\n",
       "    </tr>\n",
       "  </thead>\n",
       "  <tbody>\n",
       "    <tr>\n",
       "      <th>1</th>\n",
       "      <td>3061</td>\n",
       "    </tr>\n",
       "    <tr>\n",
       "      <th>2</th>\n",
       "      <td>1105</td>\n",
       "    </tr>\n",
       "    <tr>\n",
       "      <th>3</th>\n",
       "      <td>318</td>\n",
       "    </tr>\n",
       "    <tr>\n",
       "      <th>4</th>\n",
       "      <td>99</td>\n",
       "    </tr>\n",
       "    <tr>\n",
       "      <th>5</th>\n",
       "      <td>33</td>\n",
       "    </tr>\n",
       "    <tr>\n",
       "      <th>7</th>\n",
       "      <td>23</td>\n",
       "    </tr>\n",
       "    <tr>\n",
       "      <th>6</th>\n",
       "      <td>23</td>\n",
       "    </tr>\n",
       "    <tr>\n",
       "      <th>8</th>\n",
       "      <td>7</td>\n",
       "    </tr>\n",
       "  </tbody>\n",
       "</table>\n",
       "</div>"
      ],
      "text/plain": [
       "      #\n",
       "1  3061\n",
       "2  1105\n",
       "3  318 \n",
       "4  99  \n",
       "5  33  \n",
       "7  23  \n",
       "6  23  \n",
       "8  7   "
      ]
     },
     "execution_count": 394,
     "metadata": {},
     "output_type": "execute_result"
    }
   ],
   "source": [
    "amount_df = pd.DataFrame(count_authors['#'].value_counts())\n",
    "amount_df"
   ]
  },
  {
   "cell_type": "code",
   "execution_count": 395,
   "metadata": {},
   "outputs": [
    {
     "data": {
      "text/plain": [
       "[Text(0, 0.5, '# of Books with x Authors'), Text(0.5, 0, '# of Authors')]"
      ]
     },
     "execution_count": 395,
     "metadata": {},
     "output_type": "execute_result"
    },
    {
     "data": {
      "image/png": "[encoded data removed]",
      "text/plain": [
       "<Figure size 432x288 with 1 Axes>"
      ]
     },
     "metadata": {
      "needs_background": "light"
     },
     "output_type": "display_data"
    }
   ],
   "source": [
    "ax = amount_df.plot.bar(y='#',rot=0)\n",
    "ax.set(xlabel=\"# of Authors\", ylabel=\"# of Books with x Authors\")"
   ]
  },
  {
   "cell_type": "markdown",
   "metadata": {},
   "source": [
    "### Q3: How many books as J.K. Rowling co-authored with someone else?"
   ]
  },
  {
   "cell_type": "code",
   "execution_count": 396,
   "metadata": {},
   "outputs": [
    {
     "data": {
      "text/plain": [
       "['J.K. Rowling, Mary GrandPrÃ©',\n",
       " 'J.K. Rowling, Mary GrandPrÃ©, Rufus Beck',\n",
       " 'J.K. Rowling, Mary GrandPrÃ©',\n",
       " 'J.K. Rowling, Mary GrandPrÃ©',\n",
       " 'J.K. Rowling, Mary GrandPrÃ©',\n",
       " 'J.K. Rowling, Mary GrandPrÃ©',\n",
       " 'J.K. Rowling, Mary GrandPrÃ©',\n",
       " 'Robert Galbraith, J.K. Rowling',\n",
       " 'John Tiffany, Jack Thorne, J.K. Rowling',\n",
       " 'J.K. Rowling',\n",
       " 'J.K. Rowling',\n",
       " 'J.K. Rowling',\n",
       " 'Newt Scamander, J.K. Rowling, Albus Dumbledore',\n",
       " 'Robert Galbraith, J.K. Rowling',\n",
       " 'Robert Galbraith, J.K. Rowling',\n",
       " 'Kennilworthy Whisp, J.K. Rowling',\n",
       " 'J.K. Rowling, Mary GrandPrÃ©',\n",
       " 'J.K. Rowling, Mary GrandPrÃ©',\n",
       " 'J.K. Rowling',\n",
       " 'J.K. Rowling',\n",
       " 'J.K. Rowling',\n",
       " 'J.K. Rowling, MinaLima',\n",
       " 'J.K. Rowling, MinaLima',\n",
       " 'J.K. Rowling',\n",
       " 'J.K. Rowling, Joel Holland',\n",
       " 'Melissa Anelli, J.K. Rowling',\n",
       " 'J.K. Rowling']"
      ]
     },
     "execution_count": 396,
     "metadata": {},
     "output_type": "execute_result"
    }
   ],
   "source": [
    "jk_rowling = []\n",
    "for x in df['authors']:\n",
    "    if 'J.K. Rowling' in x:\n",
    "        jk_rowling.append(x)\n",
    "jk_rowling"
   ]
  },
  {
   "cell_type": "code",
   "execution_count": 397,
   "metadata": {},
   "outputs": [
    {
     "data": {
      "text/plain": [
       "19"
      ]
     },
     "execution_count": 397,
     "metadata": {},
     "output_type": "execute_result"
    }
   ],
   "source": [
    "count = []\n",
    "for x in jk_rowling:\n",
    "    if x != 'J.K. Rowling':\n",
    "        count.append(x)\n",
    "len(count)"
   ]
  },
  {
   "cell_type": "markdown",
   "metadata": {},
   "source": [
    "J.K. Rowling has co-authored with someone else in 19 books."
   ]
  },
  {
   "cell_type": "markdown",
   "metadata": {},
   "source": [
    "### Q4: Who has co-authored books with J.K Rowling?"
   ]
  },
  {
   "cell_type": "code",
   "execution_count": 398,
   "metadata": {},
   "outputs": [],
   "source": [
    "split_authors = []\n",
    "for x in jk_rowling:\n",
    "    split_authors.extend(x.split(\", \"))\n",
    "#split_authors"
   ]
  },
  {
   "cell_type": "code",
   "execution_count": 399,
   "metadata": {},
   "outputs": [
    {
     "data": {
      "text/plain": [
       "0     J.K. Rowling      \n",
       "1     Mary GrandPrÃ©    \n",
       "4     Rufus Beck        \n",
       "15    Robert Galbraith  \n",
       "17    John Tiffany      \n",
       "18    Jack Thorne       \n",
       "23    Newt Scamander    \n",
       "25    Albus Dumbledore  \n",
       "30    Kennilworthy Whisp\n",
       "40    MinaLima          \n",
       "45    Joel Holland      \n",
       "46    Melissa Anelli    \n",
       "Name: author, dtype: object"
      ]
     },
     "execution_count": 399,
     "metadata": {},
     "output_type": "execute_result"
    }
   ],
   "source": [
    "not_jk = pd.DataFrame(split_authors)\n",
    "not_jk.columns = ['author']\n",
    "not_jk['author'].drop_duplicates()"
   ]
  },
  {
   "cell_type": "markdown",
   "metadata": {},
   "source": [
    "Mary GrandPre, Rufus Beck, Robert Galbraith, John Tiffany, Jack Thorne, Newt Scamander, Albus Dumbledor, Kennilworthy Whisp, MinaLima, Joel Holland, and Melissa Anelli"
   ]
  },
  {
   "cell_type": "markdown",
   "metadata": {},
   "source": [
    "### Q5: Which book has the largest number of authors?  How many authors?  Who are the authors?"
   ]
  },
  {
   "cell_type": "code",
   "execution_count": 402,
   "metadata": {},
   "outputs": [
    {
     "data": {
      "text/html": [
       "<div>\n",
       "<style scoped>\n",
       "    .dataframe tbody tr th:only-of-type {\n",
       "        vertical-align: middle;\n",
       "    }\n",
       "\n",
       "    .dataframe tbody tr th {\n",
       "        vertical-align: top;\n",
       "    }\n",
       "\n",
       "    .dataframe thead th {\n",
       "        text-align: right;\n",
       "    }\n",
       "</style>\n",
       "<table border=\"1\" class=\"dataframe\">\n",
       "  <thead>\n",
       "    <tr style=\"text-align: right;\">\n",
       "      <th></th>\n",
       "      <th>authors</th>\n",
       "      <th>original_title</th>\n",
       "      <th>#</th>\n",
       "    </tr>\n",
       "  </thead>\n",
       "  <tbody>\n",
       "    <tr>\n",
       "      <th>3394</th>\n",
       "      <td>Neil Gaiman, Marc Hempel, Richard Case, D'Israeli, Teddy Kristiansen, Glyn Dillon, Charles Vess, Dea</td>\n",
       "      <td>The Sandman: The Kindly Ones</td>\n",
       "      <td>8</td>\n",
       "    </tr>\n",
       "    <tr>\n",
       "      <th>2936</th>\n",
       "      <td>Neil Gaiman, Shawn McManus, Colleen Doran, Bryan Talbot, George Pratt, Stan Woch, Dick Giordano, Tod</td>\n",
       "      <td>The Sandman: A Game of You</td>\n",
       "      <td>8</td>\n",
       "    </tr>\n",
       "    <tr>\n",
       "      <th>3085</th>\n",
       "      <td>Neil Gaiman, Bryan Talbot, Stan Woch, P. Craig Russell, Shawn McManus, John Watkiss, Jill Thompson,</td>\n",
       "      <td>The Sandman: Fables and Reflections</td>\n",
       "      <td>8</td>\n",
       "    </tr>\n",
       "    <tr>\n",
       "      <th>1095</th>\n",
       "      <td>Jon Stewart, Ben Karlin, David Javerbaum, Rich Bloomquist, Steve Bodow, Tim Carvell, Eric Drysdale,</td>\n",
       "      <td>America (The Book): A Citizen's Guide to Democracy Inaction</td>\n",
       "      <td>8</td>\n",
       "    </tr>\n",
       "    <tr>\n",
       "      <th>4154</th>\n",
       "      <td>Jon Stewart, Rory Albanese, Kevin Bleyer, Rich Bloomquist, Steve Bodow, Tim Carvell, Wyatt Cenac, Ha</td>\n",
       "      <td>Earth: A Visitor's Guide to the Human Race</td>\n",
       "      <td>8</td>\n",
       "    </tr>\n",
       "    <tr>\n",
       "      <th>3395</th>\n",
       "      <td>Neil Gaiman, Mike Allred, Gary Amaro, Mark Buckingham, David Giordano, Tony Harris, Steve Leialoha,</td>\n",
       "      <td>The Sandman: Worlds' End</td>\n",
       "      <td>8</td>\n",
       "    </tr>\n",
       "    <tr>\n",
       "      <th>4938</th>\n",
       "      <td>Franz Kafka, Nahum N. Glatzer, John Updike, Willa Muir, Edwin Muir, Tania Stern, James Stern, Ernst</td>\n",
       "      <td>SÃ¤mtliche ErzÃ¤hlungen</td>\n",
       "      <td>8</td>\n",
       "    </tr>\n",
       "  </tbody>\n",
       "</table>\n",
       "</div>"
      ],
      "text/plain": [
       "                                                                                                   authors  \\\n",
       "3394  Neil Gaiman, Marc Hempel, Richard Case, D'Israeli, Teddy Kristiansen, Glyn Dillon, Charles Vess, Dea   \n",
       "2936  Neil Gaiman, Shawn McManus, Colleen Doran, Bryan Talbot, George Pratt, Stan Woch, Dick Giordano, Tod   \n",
       "3085  Neil Gaiman, Bryan Talbot, Stan Woch, P. Craig Russell, Shawn McManus, John Watkiss, Jill Thompson,    \n",
       "1095  Jon Stewart, Ben Karlin, David Javerbaum, Rich Bloomquist, Steve Bodow, Tim Carvell, Eric Drysdale,    \n",
       "4154  Jon Stewart, Rory Albanese, Kevin Bleyer, Rich Bloomquist, Steve Bodow, Tim Carvell, Wyatt Cenac, Ha   \n",
       "3395  Neil Gaiman, Mike Allred, Gary Amaro, Mark Buckingham, David Giordano, Tony Harris, Steve Leialoha,    \n",
       "4938  Franz Kafka, Nahum N. Glatzer, John Updike, Willa Muir, Edwin Muir, Tania Stern, James Stern, Ernst    \n",
       "\n",
       "                                                   original_title  #  \n",
       "3394  The Sandman: The Kindly Ones                                 8  \n",
       "2936  The Sandman: A Game of You                                   8  \n",
       "3085  The Sandman: Fables and Reflections                          8  \n",
       "1095  America (The Book): A Citizen's Guide to Democracy Inaction  8  \n",
       "4154  Earth: A Visitor's Guide to the Human Race                   8  \n",
       "3395  The Sandman: Worlds' End                                     8  \n",
       "4938  SÃ¤mtliche ErzÃ¤hlungen                                      8  "
      ]
     },
     "execution_count": 402,
     "metadata": {},
     "output_type": "execute_result"
    }
   ],
   "source": [
    "most = pd.read_sql('SELECT  authors, original_title FROM books', con=connection)\n",
    "most['#'] = most['authors'].str.count(',')+1\n",
    "pd.set_option('display.max_colwidth', -1)\n",
    "eight_authors = most.sort_values(by='#', ascending = False).head(7)\n",
    "eight_authors"
   ]
  },
  {
   "cell_type": "code",
   "execution_count": 403,
   "metadata": {},
   "outputs": [
    {
     "name": "stdout",
     "output_type": "stream",
     "text": [
      "3394    The Sandman: The Kindly Ones by Neil Gaiman, Marc Hempel, Richard Case, D'Israeli, Teddy Kristiansen, Glyn Dillon, Charles Vess, Dea                               \n",
      "2936    The Sandman: A Game of You by Neil Gaiman, Shawn McManus, Colleen Doran, Bryan Talbot, George Pratt, Stan Woch, Dick Giordano, Tod                                 \n",
      "3085    The Sandman: Fables and Reflections by Neil Gaiman, Bryan Talbot, Stan Woch, P. Craig Russell, Shawn McManus, John Watkiss, Jill Thompson,                         \n",
      "1095    America (The Book): A Citizen's Guide to Democracy Inaction by Jon Stewart, Ben Karlin, David Javerbaum, Rich Bloomquist, Steve Bodow, Tim Carvell, Eric Drysdale, \n",
      "4154    Earth: A Visitor's Guide to the Human Race  by Jon Stewart, Rory Albanese, Kevin Bleyer, Rich Bloomquist, Steve Bodow, Tim Carvell, Wyatt Cenac, Ha                \n",
      "3395    The Sandman: Worlds' End by Neil Gaiman, Mike Allred, Gary Amaro, Mark Buckingham, David Giordano, Tony Harris, Steve Leialoha,                                    \n",
      "4938    SÃ¤mtliche ErzÃ¤hlungen by Franz Kafka, Nahum N. Glatzer, John Updike, Willa Muir, Edwin Muir, Tania Stern, James Stern, Ernst                                     \n",
      "dtype: object\n"
     ]
    }
   ],
   "source": [
    "print (eight_authors['original_title'] + ' by ' + eight_authors['authors'])"
   ]
  },
  {
   "cell_type": "markdown",
   "metadata": {},
   "source": [
    "### Q6: Which author's books have been tagged with the largest number of unique tags?"
   ]
  },
  {
   "cell_type": "code",
   "execution_count": 404,
   "metadata": {},
   "outputs": [],
   "source": [
    "tags = pd.read_sql(\"\"\"\n",
    "                SELECT books.authors, tags.tag_name  \n",
    "                FROM books\n",
    "                LEFT JOIN books_tags on books_tags.goodreads_book_id = books.goodreads_book_id\n",
    "                LEFT JOIN tags on tags.tag_id = books_tags.tag_id \n",
    "                \"\"\", con = connection)\n"
   ]
  },
  {
   "cell_type": "code",
   "execution_count": 405,
   "metadata": {},
   "outputs": [],
   "source": [
    "unique_t = tags.groupby(['authors']).sum()\n",
    "#unique_t.head()"
   ]
  },
  {
   "cell_type": "code",
   "execution_count": 406,
   "metadata": {},
   "outputs": [],
   "source": [
    "unique_t['tag_names'] = unique_t['tag_name'].str.split('\\r')\n",
    "#unique_t\n",
    "unique_t['lengths'] = unique_t['tag_names'].apply(lambda x: len(set(x)))\n",
    "#unique_t.head()"
   ]
  },
  {
   "cell_type": "code",
   "execution_count": 407,
   "metadata": {},
   "outputs": [],
   "source": [
    "#unique_t.sort_values(by=['length'], ascending = False).head(1)"
   ]
  },
  {
   "cell_type": "markdown",
   "metadata": {},
   "source": [
    "Stephen King has the most unique tags."
   ]
  }
 ],
 "metadata": {
  "kernelspec": {
   "display_name": "Python 3",
   "language": "python",
   "name": "python3"
  },
  "language_info": {
   "codemirror_mode": {
    "name": "ipython",
    "version": 3
   },
   "file_extension": ".py",
   "mimetype": "text/x-python",
   "name": "python",
   "nbconvert_exporter": "python",
   "pygments_lexer": "ipython3",
   "version": "3.7.2"
  }
 },
 "nbformat": 4,
 "nbformat_minor": 2
}
